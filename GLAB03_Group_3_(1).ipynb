{
  "cells": [
    {
      "cell_type": "markdown",
      "metadata": {
        "id": "view-in-github",
        "colab_type": "text"
      },
      "source": [
        "<a href=\"https://colab.research.google.com/github/BenjaAR/LAB03_SEM03_AQUINO/blob/main/GLAB03_Group_3_(1).ipynb\" target=\"_parent\"><img src=\"https://colab.research.google.com/assets/colab-badge.svg\" alt=\"Open In Colab\"/></a>"
      ]
    },
    {
      "cell_type": "markdown",
      "metadata": {
        "id": "uO_wnC6mioOR"
      },
      "source": [
        "# ALMACENAMIENTO DE DATOS\n",
        "ARQUITECTURA DE UN DATA WAREHOUSE. CARGA Y MANTENIMIENTO. CUBOS DE DATOS"
      ]
    },
    {
      "cell_type": "markdown",
      "metadata": {
        "id": "z2fw5Qv8ioOT"
      },
      "source": [
        "INTEGRANTES:\n",
        "\n",
        "**-Aquino Reyes Benjy**\n",
        "\n",
        "**-Huamán Quispe Abraham Sebastián Jhonatan**\n",
        "\n",
        "**-Ruelas Flores César Diego**"
      ]
    },
    {
      "cell_type": "markdown",
      "metadata": {
        "id": "-cuDeQLsioOT"
      },
      "source": [
        "1. Imporatamos la data"
      ]
    },
    {
      "cell_type": "code",
      "execution_count": null,
      "metadata": {
        "id": "X5KvHuauioOT"
      },
      "outputs": [],
      "source": [
        "### pip install ucimlrepo"
      ]
    },
    {
      "cell_type": "code",
      "execution_count": null,
      "metadata": {
        "id": "EfCl4PBiioOU"
      },
      "outputs": [],
      "source": [
        "from ucimlrepo import fetch_ucirepo\n",
        "\n",
        "# fetch dataset\n",
        "car_evaluation = fetch_ucirepo(id=19)\n",
        "\n",
        "# data (as pandas dataframes)\n",
        "X = car_evaluation.data.features\n",
        "y = car_evaluation.data.targets\n",
        "\n",
        "# metadata\n",
        "# print(car_evaluation.metadata)\n",
        "\n",
        "# variable information\n",
        "# print(car_evaluation.variables)\n"
      ]
    },
    {
      "cell_type": "code",
      "execution_count": null,
      "metadata": {
        "id": "cFpna1s4ioOU"
      },
      "outputs": [],
      "source": [
        "# print(car_evaluation)"
      ]
    },
    {
      "cell_type": "code",
      "execution_count": null,
      "metadata": {
        "id": "bgtab35HioOU"
      },
      "outputs": [],
      "source": [
        "import pandas as pd"
      ]
    },
    {
      "cell_type": "code",
      "execution_count": null,
      "metadata": {
        "id": "mz8DuAf6ioOV",
        "outputId": "1cc2ef38-1a6f-4aa6-80e6-8ba5dbf5668f"
      },
      "outputs": [
        {
          "name": "stdout",
          "output_type": "stream",
          "text": [
            "Los datos se han guardado en car_evaluation_data.xlsx\n"
          ]
        }
      ],
      "source": [
        "# Combinar X e y en un solo DataFrame para guardarlo en Excel\n",
        "combined_data = pd.concat([X, y], axis=1)\n",
        "\n",
        "# Guardar el DataFrame en un archivo Excel\n",
        "combined_data.to_excel(\"car_evaluation_data.xlsx\", index=False)\n",
        "\n",
        "print(\"Los datos se han guardado en car_evaluation_data.xlsx\")"
      ]
    },
    {
      "cell_type": "code",
      "execution_count": null,
      "metadata": {
        "id": "kclOeaFdioOW"
      },
      "outputs": [],
      "source": [
        "# print(combined_data)"
      ]
    },
    {
      "cell_type": "markdown",
      "metadata": {
        "id": "z-2x6BZuioOW"
      },
      "source": [
        "4. Extraer nombres de los atributos"
      ]
    },
    {
      "cell_type": "code",
      "execution_count": null,
      "metadata": {
        "id": "gXpEFzL2ioOX",
        "outputId": "5092d771-99f7-40b2-b621-ca81df745d3e"
      },
      "outputs": [
        {
          "data": {
            "text/plain": [
              "['data', 'metadata', 'variables']"
            ]
          },
          "execution_count": 7,
          "metadata": {},
          "output_type": "execute_result"
        }
      ],
      "source": [
        "list(car_evaluation)"
      ]
    },
    {
      "cell_type": "code",
      "execution_count": null,
      "metadata": {
        "id": "0djD3pAVioOX",
        "outputId": "6a07ce15-bdd9-4849-b4c9-5faa0c93881a"
      },
      "outputs": [
        {
          "data": {
            "text/plain": [
              "['buying', 'maint', 'doors', 'persons', 'lug_boot', 'safety', 'class']"
            ]
          },
          "execution_count": 8,
          "metadata": {},
          "output_type": "execute_result"
        }
      ],
      "source": [
        "list(combined_data)"
      ]
    },
    {
      "cell_type": "code",
      "execution_count": null,
      "metadata": {
        "id": "jMrMHqcbioOX"
      },
      "outputs": [],
      "source": [
        "import pandas as pd"
      ]
    },
    {
      "cell_type": "code",
      "execution_count": null,
      "metadata": {
        "id": "dTbIZuryioOX",
        "outputId": "b9f82ec4-c0ff-44c2-cf7b-776eb97c6ff5"
      },
      "outputs": [
        {
          "data": {
            "text/plain": [
              "['buying', 'maint', 'doors', 'persons', 'lug_boot', 'safety', 'class']"
            ]
          },
          "execution_count": 10,
          "metadata": {},
          "output_type": "execute_result"
        }
      ],
      "source": [
        "list(combined_data.columns)"
      ]
    },
    {
      "cell_type": "code",
      "execution_count": null,
      "metadata": {
        "id": "e8mF2DtyioOX",
        "outputId": "89eef2b9-a13f-4809-ab7d-979973f94a46"
      },
      "outputs": [
        {
          "data": {
            "text/plain": [
              "['buying', 'maint', 'doors', 'persons', 'lug_boot', 'safety', 'class']"
            ]
          },
          "execution_count": 11,
          "metadata": {},
          "output_type": "execute_result"
        }
      ],
      "source": [
        "combined_data.columns.tolist()"
      ]
    },
    {
      "cell_type": "code",
      "execution_count": null,
      "metadata": {
        "id": "2b7gyLtnioOY",
        "outputId": "26deae57-79e5-4a28-8c33-bfec249926e7"
      },
      "outputs": [
        {
          "data": {
            "text/plain": [
              "['buying', 'maint', 'doors', 'persons', 'lug_boot', 'safety', 'class']"
            ]
          },
          "execution_count": 12,
          "metadata": {},
          "output_type": "execute_result"
        }
      ],
      "source": [
        "list(combined_data.columns.values)"
      ]
    },
    {
      "cell_type": "markdown",
      "metadata": {
        "id": "7V_7jHIwioOY"
      },
      "source": [
        "5. Para medir el rendimiento de los métodos anteriores en términos de tiempo podemos usar la función ‘timeit’ de la librería ‘timeit’."
      ]
    },
    {
      "cell_type": "code",
      "execution_count": null,
      "metadata": {
        "id": "A7OfRDLdioOY"
      },
      "outputs": [],
      "source": [
        "from timeit import timeit"
      ]
    },
    {
      "cell_type": "code",
      "execution_count": null,
      "metadata": {
        "id": "emZ3SXTqioOY",
        "outputId": "4bc1489a-a6df-4c29-ff0c-8da58d386fa3"
      },
      "outputs": [
        {
          "name": "stdout",
          "output_type": "stream",
          "text": [
            "3.3687549000023864\n"
          ]
        }
      ],
      "source": [
        "t1 = timeit(lambda: list(combined_data))\n",
        "print(t1)"
      ]
    },
    {
      "cell_type": "code",
      "execution_count": null,
      "metadata": {
        "id": "83OmGXQxioOY",
        "outputId": "7c98128d-526e-4803-f827-261d61e962c0"
      },
      "outputs": [
        {
          "name": "stdout",
          "output_type": "stream",
          "text": [
            "1.9338889999999083\n"
          ]
        }
      ],
      "source": [
        "t2 = timeit(lambda: list(combined_data.columns))\n",
        "print(t2)"
      ]
    },
    {
      "cell_type": "code",
      "execution_count": null,
      "metadata": {
        "id": "v5TY2v9EioOY",
        "outputId": "4785ca0a-9a7d-4a87-bdb8-4a3a64143ea3"
      },
      "outputs": [
        {
          "name": "stdout",
          "output_type": "stream",
          "text": [
            "0.43349559999842313\n"
          ]
        }
      ],
      "source": [
        "t3 = timeit(lambda: combined_data.columns.tolist())\n",
        "print(t3)"
      ]
    },
    {
      "cell_type": "code",
      "execution_count": null,
      "metadata": {
        "id": "7evee3WZioOY",
        "outputId": "92971a37-7464-4e6e-935c-ad0822bc8ebd"
      },
      "outputs": [
        {
          "name": "stdout",
          "output_type": "stream",
          "text": [
            "2.4428168999984337\n"
          ]
        }
      ],
      "source": [
        "t4 = timeit(lambda: list(combined_data.columns.values))\n",
        "print(t4)"
      ]
    },
    {
      "cell_type": "code",
      "execution_count": null,
      "metadata": {
        "id": "SJm3aZSkioOZ",
        "outputId": "97d8f9c8-f879-4fa5-a56d-1f527437e5ec"
      },
      "outputs": [
        {
          "name": "stdout",
          "output_type": "stream",
          "text": [
            "3.3687549000023864 1.9338889999999083 0.43349559999842313 2.4428168999984337\n"
          ]
        }
      ],
      "source": [
        "print(t1,t2,t3,t4)"
      ]
    },
    {
      "cell_type": "markdown",
      "metadata": {
        "id": "IhynWac9ioOZ"
      },
      "source": [
        "6.\tUsando el método ‘dtype’ para cada atributo, podemos ver su naturaleza. Si quisiéramos ver esto para todos los atributos, usaremos el método ‘dtypes’."
      ]
    },
    {
      "cell_type": "code",
      "execution_count": null,
      "metadata": {
        "id": "gJ32ZVj4ioOZ",
        "outputId": "23ed25b1-11da-4de8-f711-0a0f82cdd6e0"
      },
      "outputs": [
        {
          "data": {
            "text/plain": [
              "dtype('O')"
            ]
          },
          "execution_count": 19,
          "metadata": {},
          "output_type": "execute_result"
        }
      ],
      "source": [
        "combined_data['buying'].dtype"
      ]
    },
    {
      "cell_type": "code",
      "execution_count": null,
      "metadata": {
        "id": "qNz87cn5ioOZ",
        "outputId": "0e21688a-fee0-437c-ff94-e72b712dc295"
      },
      "outputs": [
        {
          "data": {
            "text/plain": [
              "dtype('O')"
            ]
          },
          "execution_count": 20,
          "metadata": {},
          "output_type": "execute_result"
        }
      ],
      "source": [
        "combined_data['persons'].dtype"
      ]
    },
    {
      "cell_type": "code",
      "execution_count": null,
      "metadata": {
        "id": "8pBvt5fCioOZ",
        "outputId": "20da83c7-f771-46ed-f1a8-af3d8c5fec73"
      },
      "outputs": [
        {
          "data": {
            "text/plain": [
              "buying      object\n",
              "maint       object\n",
              "doors       object\n",
              "persons     object\n",
              "lug_boot    object\n",
              "safety      object\n",
              "class       object\n",
              "dtype: object"
            ]
          },
          "execution_count": 21,
          "metadata": {},
          "output_type": "execute_result"
        }
      ],
      "source": [
        "combined_data.dtypes"
      ]
    },
    {
      "cell_type": "markdown",
      "metadata": {
        "id": "7GL0w3AYioOZ"
      },
      "source": [
        "7.\tObservamos la cantidad de categorías de un atributo mediante el método ‘unique( )’."
      ]
    },
    {
      "cell_type": "code",
      "execution_count": null,
      "metadata": {
        "id": "brTIg100ioOZ",
        "outputId": "3fe191ef-f7e3-4b1d-d712-95c80f7b7e25"
      },
      "outputs": [
        {
          "data": {
            "text/plain": [
              "<bound method Series.unique of 0           2\n",
              "1           2\n",
              "2           2\n",
              "3           2\n",
              "4           2\n",
              "        ...  \n",
              "1723    5more\n",
              "1724    5more\n",
              "1725    5more\n",
              "1726    5more\n",
              "1727    5more\n",
              "Name: doors, Length: 1728, dtype: object>"
            ]
          },
          "execution_count": 22,
          "metadata": {},
          "output_type": "execute_result"
        }
      ],
      "source": [
        "combined_data[\"doors\"].unique"
      ]
    },
    {
      "cell_type": "markdown",
      "metadata": {
        "id": "KM6k5JEvioOZ"
      },
      "source": [
        "8.\tSi en el paso anterior, la naturaleza de los atributos no coincide en cómo se está definiendo en el repositorio web, podemos cambiar esto por medio del método ‘astype( )’ aplicado sobre el atributo junto con su tipo."
      ]
    },
    {
      "cell_type": "code",
      "execution_count": null,
      "metadata": {
        "id": "Qtrak8NbioOZ"
      },
      "outputs": [],
      "source": [
        "# cambiando tipo de los datos\n",
        "combined_data['doors'] = combined_data['doors'].astype('category')\n",
        "combined_data['persons'] = combined_data['persons'].astype('category')"
      ]
    },
    {
      "cell_type": "code",
      "execution_count": null,
      "metadata": {
        "id": "dbaJuBTCioOZ",
        "outputId": "ce06dd61-3c02-4c68-b75f-0323dc88b947"
      },
      "outputs": [
        {
          "data": {
            "text/plain": [
              "<bound method NDFrame.astype of      buying  maint  doors persons lug_boot safety  class\n",
              "0     vhigh  vhigh      2       2    small    low  unacc\n",
              "1     vhigh  vhigh      2       2    small    med  unacc\n",
              "2     vhigh  vhigh      2       2    small   high  unacc\n",
              "3     vhigh  vhigh      2       2      med    low  unacc\n",
              "4     vhigh  vhigh      2       2      med    med  unacc\n",
              "...     ...    ...    ...     ...      ...    ...    ...\n",
              "1723    low    low  5more    more      med    med   good\n",
              "1724    low    low  5more    more      med   high  vgood\n",
              "1725    low    low  5more    more      big    low  unacc\n",
              "1726    low    low  5more    more      big    med   good\n",
              "1727    low    low  5more    more      big   high  vgood\n",
              "\n",
              "[1728 rows x 7 columns]>"
            ]
          },
          "execution_count": 24,
          "metadata": {},
          "output_type": "execute_result"
        }
      ],
      "source": [
        "combined_data.astype"
      ]
    },
    {
      "cell_type": "markdown",
      "metadata": {
        "id": "EI6aRmr9ioOa"
      },
      "source": [
        "9.\tPara cambiar el nombre a las categorías debemos importar la librería ‘numpy’ que trabaja con arreglos y luego utilizar el método ‘where( )’ indicando al atributo de la data, el nuevo nombre para cada categoría."
      ]
    },
    {
      "cell_type": "code",
      "execution_count": null,
      "metadata": {
        "id": "f9Y9XgYOioOa"
      },
      "outputs": [],
      "source": [
        "import numpy as np"
      ]
    },
    {
      "cell_type": "code",
      "execution_count": null,
      "metadata": {
        "id": "bBDEx49RioOa",
        "outputId": "79ab77ba-480b-4092-9112-a5f9b8e5052c"
      },
      "outputs": [
        {
          "data": {
            "text/plain": [
              "<bound method Series.unique of 0       pequeño\n",
              "1       pequeño\n",
              "2       pequeño\n",
              "3       mediano\n",
              "4       mediano\n",
              "         ...   \n",
              "1723    mediano\n",
              "1724    mediano\n",
              "1725     grande\n",
              "1726     grande\n",
              "1727     grande\n",
              "Name: lug_boot, Length: 1728, dtype: object>"
            ]
          },
          "execution_count": 26,
          "metadata": {},
          "output_type": "execute_result"
        }
      ],
      "source": [
        "combined_data[\"lug_boot\"]=np.where(combined_data[\"lug_boot\"]==\"small\", \"pequeño\", combined_data[\"lug_boot\"])\n",
        "combined_data[\"lug_boot\"]=np.where(combined_data[\"lug_boot\"]==\"med\", \"mediano\", combined_data[\"lug_boot\"])\n",
        "combined_data[\"lug_boot\"]=np.where(combined_data[\"lug_boot\"]==\"big\", \"grande\", combined_data[\"lug_boot\"])\n",
        "combined_data[\"lug_boot\"].unique"
      ]
    },
    {
      "cell_type": "markdown",
      "metadata": {
        "id": "PQiBLE_OioOa"
      },
      "source": [
        "10.\tCon el método ‘.value_count( )’ podemos contabilizar las frecuencias de cada categoría."
      ]
    },
    {
      "cell_type": "code",
      "execution_count": null,
      "metadata": {
        "id": "_13i6v02ioOa",
        "outputId": "e30a1039-a8ee-431e-c4fe-08445d6e09cf"
      },
      "outputs": [
        {
          "data": {
            "text/plain": [
              "doors\n",
              "2        432\n",
              "3        432\n",
              "4        432\n",
              "5more    432\n",
              "Name: count, dtype: int64"
            ]
          },
          "execution_count": 27,
          "metadata": {},
          "output_type": "execute_result"
        }
      ],
      "source": [
        "combined_data[\"doors\"].value_counts(dropna=False)"
      ]
    },
    {
      "cell_type": "markdown",
      "metadata": {
        "id": "U3AIucLdioOa"
      },
      "source": [
        "11.\tTambién podemos juntar dos o más categorías mediante el método ‘where’ escribiendo la misma categoría para las que son diferentes."
      ]
    },
    {
      "cell_type": "code",
      "execution_count": null,
      "metadata": {
        "id": "bnFy-vU2ioOa"
      },
      "outputs": [],
      "source": [
        "combined_data[\"doors\"] = np.where(combined_data[\"doors\"]==\"2\", \"3 a menos\", combined_data[\"doors\"])\n",
        "combined_data[\"doors\"] = np.where(combined_data[\"doors\"]==\"3\", \"3 a menos\", combined_data[\"doors\"])"
      ]
    },
    {
      "cell_type": "code",
      "execution_count": null,
      "metadata": {
        "id": "CTQ8nlx7ioOj"
      },
      "outputs": [],
      "source": [
        "combined_data[\"doors\"] = np.where(combined_data[\"doors\"]==\"4\", \"4 a más\", combined_data[\"doors\"])\n",
        "combined_data[\"doors\"] = np.where(combined_data[\"doors\"]==\"5more\", \"4 a más\", combined_data[\"doors\"])"
      ]
    },
    {
      "cell_type": "code",
      "execution_count": null,
      "metadata": {
        "id": "CkatZomfioOk",
        "outputId": "f8d7706b-dcc5-47c2-cc1b-7b8d5f473bb2"
      },
      "outputs": [
        {
          "data": {
            "text/plain": [
              "array(['3 a menos', '4 a más'], dtype=object)"
            ]
          },
          "execution_count": 30,
          "metadata": {},
          "output_type": "execute_result"
        }
      ],
      "source": [
        "combined_data[\"doors\"].unique()"
      ]
    },
    {
      "cell_type": "markdown",
      "metadata": {
        "id": "c7DH0UBGioOk"
      },
      "source": [
        "12.\tOtra forma de cambiar los nombres de los encabezados es mediante el método ‘rename’ escribiendo en forma de diccionario, el nombre de la variable a cambiar (‘lug_boot’) y luego el nuevo nombre (‘trunk’). Además, debemos asignar el valor ‘axis=1’ y si queremos cambiar nombres a las filas usamos ‘axis=0’."
      ]
    },
    {
      "cell_type": "code",
      "execution_count": null,
      "metadata": {
        "id": "CWhkeQXYioOk",
        "outputId": "c441ee7f-cf75-4702-fbd3-658a84bcd0f1"
      },
      "outputs": [
        {
          "data": {
            "text/html": [
              "<div>\n",
              "<style scoped>\n",
              "    .dataframe tbody tr th:only-of-type {\n",
              "        vertical-align: middle;\n",
              "    }\n",
              "\n",
              "    .dataframe tbody tr th {\n",
              "        vertical-align: top;\n",
              "    }\n",
              "\n",
              "    .dataframe thead th {\n",
              "        text-align: right;\n",
              "    }\n",
              "</style>\n",
              "<table border=\"1\" class=\"dataframe\">\n",
              "  <thead>\n",
              "    <tr style=\"text-align: right;\">\n",
              "      <th></th>\n",
              "      <th>buying</th>\n",
              "      <th>maint</th>\n",
              "      <th>doors</th>\n",
              "      <th>persons</th>\n",
              "      <th>trunk</th>\n",
              "      <th>safety</th>\n",
              "      <th>class</th>\n",
              "    </tr>\n",
              "  </thead>\n",
              "  <tbody>\n",
              "    <tr>\n",
              "      <th>0</th>\n",
              "      <td>vhigh</td>\n",
              "      <td>vhigh</td>\n",
              "      <td>3 a menos</td>\n",
              "      <td>2</td>\n",
              "      <td>pequeño</td>\n",
              "      <td>low</td>\n",
              "      <td>unacc</td>\n",
              "    </tr>\n",
              "    <tr>\n",
              "      <th>1</th>\n",
              "      <td>vhigh</td>\n",
              "      <td>vhigh</td>\n",
              "      <td>3 a menos</td>\n",
              "      <td>2</td>\n",
              "      <td>pequeño</td>\n",
              "      <td>med</td>\n",
              "      <td>unacc</td>\n",
              "    </tr>\n",
              "    <tr>\n",
              "      <th>2</th>\n",
              "      <td>vhigh</td>\n",
              "      <td>vhigh</td>\n",
              "      <td>3 a menos</td>\n",
              "      <td>2</td>\n",
              "      <td>pequeño</td>\n",
              "      <td>high</td>\n",
              "      <td>unacc</td>\n",
              "    </tr>\n",
              "    <tr>\n",
              "      <th>3</th>\n",
              "      <td>vhigh</td>\n",
              "      <td>vhigh</td>\n",
              "      <td>3 a menos</td>\n",
              "      <td>2</td>\n",
              "      <td>mediano</td>\n",
              "      <td>low</td>\n",
              "      <td>unacc</td>\n",
              "    </tr>\n",
              "    <tr>\n",
              "      <th>4</th>\n",
              "      <td>vhigh</td>\n",
              "      <td>vhigh</td>\n",
              "      <td>3 a menos</td>\n",
              "      <td>2</td>\n",
              "      <td>mediano</td>\n",
              "      <td>med</td>\n",
              "      <td>unacc</td>\n",
              "    </tr>\n",
              "    <tr>\n",
              "      <th>...</th>\n",
              "      <td>...</td>\n",
              "      <td>...</td>\n",
              "      <td>...</td>\n",
              "      <td>...</td>\n",
              "      <td>...</td>\n",
              "      <td>...</td>\n",
              "      <td>...</td>\n",
              "    </tr>\n",
              "    <tr>\n",
              "      <th>1723</th>\n",
              "      <td>low</td>\n",
              "      <td>low</td>\n",
              "      <td>4 a más</td>\n",
              "      <td>more</td>\n",
              "      <td>mediano</td>\n",
              "      <td>med</td>\n",
              "      <td>good</td>\n",
              "    </tr>\n",
              "    <tr>\n",
              "      <th>1724</th>\n",
              "      <td>low</td>\n",
              "      <td>low</td>\n",
              "      <td>4 a más</td>\n",
              "      <td>more</td>\n",
              "      <td>mediano</td>\n",
              "      <td>high</td>\n",
              "      <td>vgood</td>\n",
              "    </tr>\n",
              "    <tr>\n",
              "      <th>1725</th>\n",
              "      <td>low</td>\n",
              "      <td>low</td>\n",
              "      <td>4 a más</td>\n",
              "      <td>more</td>\n",
              "      <td>grande</td>\n",
              "      <td>low</td>\n",
              "      <td>unacc</td>\n",
              "    </tr>\n",
              "    <tr>\n",
              "      <th>1726</th>\n",
              "      <td>low</td>\n",
              "      <td>low</td>\n",
              "      <td>4 a más</td>\n",
              "      <td>more</td>\n",
              "      <td>grande</td>\n",
              "      <td>med</td>\n",
              "      <td>good</td>\n",
              "    </tr>\n",
              "    <tr>\n",
              "      <th>1727</th>\n",
              "      <td>low</td>\n",
              "      <td>low</td>\n",
              "      <td>4 a más</td>\n",
              "      <td>more</td>\n",
              "      <td>grande</td>\n",
              "      <td>high</td>\n",
              "      <td>vgood</td>\n",
              "    </tr>\n",
              "  </tbody>\n",
              "</table>\n",
              "<p>1728 rows × 7 columns</p>\n",
              "</div>"
            ],
            "text/plain": [
              "     buying  maint      doors persons    trunk safety  class\n",
              "0     vhigh  vhigh  3 a menos       2  pequeño    low  unacc\n",
              "1     vhigh  vhigh  3 a menos       2  pequeño    med  unacc\n",
              "2     vhigh  vhigh  3 a menos       2  pequeño   high  unacc\n",
              "3     vhigh  vhigh  3 a menos       2  mediano    low  unacc\n",
              "4     vhigh  vhigh  3 a menos       2  mediano    med  unacc\n",
              "...     ...    ...        ...     ...      ...    ...    ...\n",
              "1723    low    low    4 a más    more  mediano    med   good\n",
              "1724    low    low    4 a más    more  mediano   high  vgood\n",
              "1725    low    low    4 a más    more   grande    low  unacc\n",
              "1726    low    low    4 a más    more   grande    med   good\n",
              "1727    low    low    4 a más    more   grande   high  vgood\n",
              "\n",
              "[1728 rows x 7 columns]"
            ]
          },
          "execution_count": 31,
          "metadata": {},
          "output_type": "execute_result"
        }
      ],
      "source": [
        "combined_data.rename({'lug_boot':'trunk'}, axis=1, inplace=True)\n",
        "combined_data"
      ]
    },
    {
      "cell_type": "markdown",
      "metadata": {
        "id": "oVM0RVtIioOk"
      },
      "source": [
        "13.\tPara determinar la cantidad de registros y atributos utilizamos el método ‘shape( )’; asimismo, con los métodos ‘head( )’ y ‘tail( )’, podemos ver los 5 primeros y últimos registros, respectivamente."
      ]
    },
    {
      "cell_type": "code",
      "execution_count": null,
      "metadata": {
        "id": "RhIam4BoioOk",
        "outputId": "b7191f5f-251f-4a12-a533-cc06fd66f3d7"
      },
      "outputs": [
        {
          "data": {
            "text/plain": [
              "(1728, 7)"
            ]
          },
          "execution_count": 32,
          "metadata": {},
          "output_type": "execute_result"
        }
      ],
      "source": [
        "# n de registros y atributos\n",
        "combined_data.shape"
      ]
    },
    {
      "cell_type": "code",
      "execution_count": null,
      "metadata": {
        "id": "tpomSGaZioOk",
        "outputId": "9336056f-bfd7-4579-b6b4-af9b62d2fb0a"
      },
      "outputs": [
        {
          "data": {
            "text/html": [
              "<div>\n",
              "<style scoped>\n",
              "    .dataframe tbody tr th:only-of-type {\n",
              "        vertical-align: middle;\n",
              "    }\n",
              "\n",
              "    .dataframe tbody tr th {\n",
              "        vertical-align: top;\n",
              "    }\n",
              "\n",
              "    .dataframe thead th {\n",
              "        text-align: right;\n",
              "    }\n",
              "</style>\n",
              "<table border=\"1\" class=\"dataframe\">\n",
              "  <thead>\n",
              "    <tr style=\"text-align: right;\">\n",
              "      <th></th>\n",
              "      <th>buying</th>\n",
              "      <th>maint</th>\n",
              "      <th>doors</th>\n",
              "      <th>persons</th>\n",
              "      <th>trunk</th>\n",
              "      <th>safety</th>\n",
              "      <th>class</th>\n",
              "    </tr>\n",
              "  </thead>\n",
              "  <tbody>\n",
              "    <tr>\n",
              "      <th>0</th>\n",
              "      <td>vhigh</td>\n",
              "      <td>vhigh</td>\n",
              "      <td>3 a menos</td>\n",
              "      <td>2</td>\n",
              "      <td>pequeño</td>\n",
              "      <td>low</td>\n",
              "      <td>unacc</td>\n",
              "    </tr>\n",
              "    <tr>\n",
              "      <th>1</th>\n",
              "      <td>vhigh</td>\n",
              "      <td>vhigh</td>\n",
              "      <td>3 a menos</td>\n",
              "      <td>2</td>\n",
              "      <td>pequeño</td>\n",
              "      <td>med</td>\n",
              "      <td>unacc</td>\n",
              "    </tr>\n",
              "    <tr>\n",
              "      <th>2</th>\n",
              "      <td>vhigh</td>\n",
              "      <td>vhigh</td>\n",
              "      <td>3 a menos</td>\n",
              "      <td>2</td>\n",
              "      <td>pequeño</td>\n",
              "      <td>high</td>\n",
              "      <td>unacc</td>\n",
              "    </tr>\n",
              "    <tr>\n",
              "      <th>3</th>\n",
              "      <td>vhigh</td>\n",
              "      <td>vhigh</td>\n",
              "      <td>3 a menos</td>\n",
              "      <td>2</td>\n",
              "      <td>mediano</td>\n",
              "      <td>low</td>\n",
              "      <td>unacc</td>\n",
              "    </tr>\n",
              "    <tr>\n",
              "      <th>4</th>\n",
              "      <td>vhigh</td>\n",
              "      <td>vhigh</td>\n",
              "      <td>3 a menos</td>\n",
              "      <td>2</td>\n",
              "      <td>mediano</td>\n",
              "      <td>med</td>\n",
              "      <td>unacc</td>\n",
              "    </tr>\n",
              "  </tbody>\n",
              "</table>\n",
              "</div>"
            ],
            "text/plain": [
              "  buying  maint      doors persons    trunk safety  class\n",
              "0  vhigh  vhigh  3 a menos       2  pequeño    low  unacc\n",
              "1  vhigh  vhigh  3 a menos       2  pequeño    med  unacc\n",
              "2  vhigh  vhigh  3 a menos       2  pequeño   high  unacc\n",
              "3  vhigh  vhigh  3 a menos       2  mediano    low  unacc\n",
              "4  vhigh  vhigh  3 a menos       2  mediano    med  unacc"
            ]
          },
          "execution_count": 33,
          "metadata": {},
          "output_type": "execute_result"
        }
      ],
      "source": [
        "combined_data.head()"
      ]
    },
    {
      "cell_type": "code",
      "execution_count": null,
      "metadata": {
        "id": "W-l6QzFbioOk",
        "outputId": "e6e60bd8-dc12-40b3-ff3c-be6831239732"
      },
      "outputs": [
        {
          "data": {
            "text/html": [
              "<div>\n",
              "<style scoped>\n",
              "    .dataframe tbody tr th:only-of-type {\n",
              "        vertical-align: middle;\n",
              "    }\n",
              "\n",
              "    .dataframe tbody tr th {\n",
              "        vertical-align: top;\n",
              "    }\n",
              "\n",
              "    .dataframe thead th {\n",
              "        text-align: right;\n",
              "    }\n",
              "</style>\n",
              "<table border=\"1\" class=\"dataframe\">\n",
              "  <thead>\n",
              "    <tr style=\"text-align: right;\">\n",
              "      <th></th>\n",
              "      <th>buying</th>\n",
              "      <th>maint</th>\n",
              "      <th>doors</th>\n",
              "      <th>persons</th>\n",
              "      <th>trunk</th>\n",
              "      <th>safety</th>\n",
              "      <th>class</th>\n",
              "    </tr>\n",
              "  </thead>\n",
              "  <tbody>\n",
              "    <tr>\n",
              "      <th>1723</th>\n",
              "      <td>low</td>\n",
              "      <td>low</td>\n",
              "      <td>4 a más</td>\n",
              "      <td>more</td>\n",
              "      <td>mediano</td>\n",
              "      <td>med</td>\n",
              "      <td>good</td>\n",
              "    </tr>\n",
              "    <tr>\n",
              "      <th>1724</th>\n",
              "      <td>low</td>\n",
              "      <td>low</td>\n",
              "      <td>4 a más</td>\n",
              "      <td>more</td>\n",
              "      <td>mediano</td>\n",
              "      <td>high</td>\n",
              "      <td>vgood</td>\n",
              "    </tr>\n",
              "    <tr>\n",
              "      <th>1725</th>\n",
              "      <td>low</td>\n",
              "      <td>low</td>\n",
              "      <td>4 a más</td>\n",
              "      <td>more</td>\n",
              "      <td>grande</td>\n",
              "      <td>low</td>\n",
              "      <td>unacc</td>\n",
              "    </tr>\n",
              "    <tr>\n",
              "      <th>1726</th>\n",
              "      <td>low</td>\n",
              "      <td>low</td>\n",
              "      <td>4 a más</td>\n",
              "      <td>more</td>\n",
              "      <td>grande</td>\n",
              "      <td>med</td>\n",
              "      <td>good</td>\n",
              "    </tr>\n",
              "    <tr>\n",
              "      <th>1727</th>\n",
              "      <td>low</td>\n",
              "      <td>low</td>\n",
              "      <td>4 a más</td>\n",
              "      <td>more</td>\n",
              "      <td>grande</td>\n",
              "      <td>high</td>\n",
              "      <td>vgood</td>\n",
              "    </tr>\n",
              "  </tbody>\n",
              "</table>\n",
              "</div>"
            ],
            "text/plain": [
              "     buying maint    doors persons    trunk safety  class\n",
              "1723    low   low  4 a más    more  mediano    med   good\n",
              "1724    low   low  4 a más    more  mediano   high  vgood\n",
              "1725    low   low  4 a más    more   grande    low  unacc\n",
              "1726    low   low  4 a más    more   grande    med   good\n",
              "1727    low   low  4 a más    more   grande   high  vgood"
            ]
          },
          "execution_count": 34,
          "metadata": {},
          "output_type": "execute_result"
        }
      ],
      "source": [
        "combined_data.tail()"
      ]
    },
    {
      "cell_type": "markdown",
      "metadata": {
        "id": "C7xsy9m8ioOk"
      },
      "source": [
        "14.\tCon el método ‘iloc’ podemos extraer una parte de nuestra data a manera de filas y columnas."
      ]
    },
    {
      "cell_type": "code",
      "execution_count": null,
      "metadata": {
        "id": "-2jMBcINioOl",
        "outputId": "d3c4ac5f-3df4-43b9-8a22-8090c4eea037"
      },
      "outputs": [
        {
          "data": {
            "text/html": [
              "<div>\n",
              "<style scoped>\n",
              "    .dataframe tbody tr th:only-of-type {\n",
              "        vertical-align: middle;\n",
              "    }\n",
              "\n",
              "    .dataframe tbody tr th {\n",
              "        vertical-align: top;\n",
              "    }\n",
              "\n",
              "    .dataframe thead th {\n",
              "        text-align: right;\n",
              "    }\n",
              "</style>\n",
              "<table border=\"1\" class=\"dataframe\">\n",
              "  <thead>\n",
              "    <tr style=\"text-align: right;\">\n",
              "      <th></th>\n",
              "      <th>maint</th>\n",
              "      <th>doors</th>\n",
              "      <th>persons</th>\n",
              "    </tr>\n",
              "  </thead>\n",
              "  <tbody>\n",
              "    <tr>\n",
              "      <th>0</th>\n",
              "      <td>vhigh</td>\n",
              "      <td>3 a menos</td>\n",
              "      <td>2</td>\n",
              "    </tr>\n",
              "    <tr>\n",
              "      <th>1</th>\n",
              "      <td>vhigh</td>\n",
              "      <td>3 a menos</td>\n",
              "      <td>2</td>\n",
              "    </tr>\n",
              "    <tr>\n",
              "      <th>2</th>\n",
              "      <td>vhigh</td>\n",
              "      <td>3 a menos</td>\n",
              "      <td>2</td>\n",
              "    </tr>\n",
              "  </tbody>\n",
              "</table>\n",
              "</div>"
            ],
            "text/plain": [
              "   maint      doors persons\n",
              "0  vhigh  3 a menos       2\n",
              "1  vhigh  3 a menos       2\n",
              "2  vhigh  3 a menos       2"
            ]
          },
          "execution_count": 35,
          "metadata": {},
          "output_type": "execute_result"
        }
      ],
      "source": [
        "combined_data.iloc[0:3, 1:4]"
      ]
    },
    {
      "cell_type": "markdown",
      "metadata": {
        "id": "5KcAyDzsioOl"
      },
      "source": [
        "15.\tPara extraer registros en particular, podemos hacer uso de los corchetes ([ ]) especificando dentro de estos los registros que necesitamos."
      ]
    },
    {
      "cell_type": "code",
      "execution_count": null,
      "metadata": {
        "id": "7vYERjMfioOl",
        "outputId": "b4b63c18-543b-4a1c-da2a-1d2dc8461973"
      },
      "outputs": [
        {
          "data": {
            "text/html": [
              "<div>\n",
              "<style scoped>\n",
              "    .dataframe tbody tr th:only-of-type {\n",
              "        vertical-align: middle;\n",
              "    }\n",
              "\n",
              "    .dataframe tbody tr th {\n",
              "        vertical-align: top;\n",
              "    }\n",
              "\n",
              "    .dataframe thead th {\n",
              "        text-align: right;\n",
              "    }\n",
              "</style>\n",
              "<table border=\"1\" class=\"dataframe\">\n",
              "  <thead>\n",
              "    <tr style=\"text-align: right;\">\n",
              "      <th></th>\n",
              "      <th>buying</th>\n",
              "      <th>maint</th>\n",
              "      <th>doors</th>\n",
              "      <th>persons</th>\n",
              "      <th>trunk</th>\n",
              "      <th>safety</th>\n",
              "      <th>class</th>\n",
              "    </tr>\n",
              "  </thead>\n",
              "  <tbody>\n",
              "    <tr>\n",
              "      <th>0</th>\n",
              "      <td>vhigh</td>\n",
              "      <td>vhigh</td>\n",
              "      <td>3 a menos</td>\n",
              "      <td>2</td>\n",
              "      <td>pequeño</td>\n",
              "      <td>low</td>\n",
              "      <td>unacc</td>\n",
              "    </tr>\n",
              "    <tr>\n",
              "      <th>10</th>\n",
              "      <td>vhigh</td>\n",
              "      <td>vhigh</td>\n",
              "      <td>3 a menos</td>\n",
              "      <td>4</td>\n",
              "      <td>pequeño</td>\n",
              "      <td>med</td>\n",
              "      <td>unacc</td>\n",
              "    </tr>\n",
              "  </tbody>\n",
              "</table>\n",
              "</div>"
            ],
            "text/plain": [
              "   buying  maint      doors persons    trunk safety  class\n",
              "0   vhigh  vhigh  3 a menos       2  pequeño    low  unacc\n",
              "10  vhigh  vhigh  3 a menos       4  pequeño    med  unacc"
            ]
          },
          "execution_count": 36,
          "metadata": {},
          "output_type": "execute_result"
        }
      ],
      "source": [
        "combined_data.loc[[0,10],:]"
      ]
    },
    {
      "cell_type": "markdown",
      "metadata": {
        "id": "FEKuQ_aHioOl"
      },
      "source": [
        "16.\tCon relación a lo anterior, también se pueden utilizar los corchetes para extraer los datos de un atributo o más de uno, colocando para ello sus nombres."
      ]
    },
    {
      "cell_type": "code",
      "execution_count": null,
      "metadata": {
        "id": "N0ugQU7LioOl",
        "outputId": "3aa58eb6-dc82-40a0-b485-5f5abcf4253b"
      },
      "outputs": [
        {
          "data": {
            "text/html": [
              "<div>\n",
              "<style scoped>\n",
              "    .dataframe tbody tr th:only-of-type {\n",
              "        vertical-align: middle;\n",
              "    }\n",
              "\n",
              "    .dataframe tbody tr th {\n",
              "        vertical-align: top;\n",
              "    }\n",
              "\n",
              "    .dataframe thead th {\n",
              "        text-align: right;\n",
              "    }\n",
              "</style>\n",
              "<table border=\"1\" class=\"dataframe\">\n",
              "  <thead>\n",
              "    <tr style=\"text-align: right;\">\n",
              "      <th></th>\n",
              "      <th>doors</th>\n",
              "      <th>persons</th>\n",
              "    </tr>\n",
              "  </thead>\n",
              "  <tbody>\n",
              "    <tr>\n",
              "      <th>0</th>\n",
              "      <td>3 a menos</td>\n",
              "      <td>2</td>\n",
              "    </tr>\n",
              "    <tr>\n",
              "      <th>1</th>\n",
              "      <td>3 a menos</td>\n",
              "      <td>2</td>\n",
              "    </tr>\n",
              "    <tr>\n",
              "      <th>2</th>\n",
              "      <td>3 a menos</td>\n",
              "      <td>2</td>\n",
              "    </tr>\n",
              "    <tr>\n",
              "      <th>3</th>\n",
              "      <td>3 a menos</td>\n",
              "      <td>2</td>\n",
              "    </tr>\n",
              "    <tr>\n",
              "      <th>4</th>\n",
              "      <td>3 a menos</td>\n",
              "      <td>2</td>\n",
              "    </tr>\n",
              "    <tr>\n",
              "      <th>5</th>\n",
              "      <td>3 a menos</td>\n",
              "      <td>2</td>\n",
              "    </tr>\n",
              "    <tr>\n",
              "      <th>6</th>\n",
              "      <td>3 a menos</td>\n",
              "      <td>2</td>\n",
              "    </tr>\n",
              "    <tr>\n",
              "      <th>7</th>\n",
              "      <td>3 a menos</td>\n",
              "      <td>2</td>\n",
              "    </tr>\n",
              "    <tr>\n",
              "      <th>8</th>\n",
              "      <td>3 a menos</td>\n",
              "      <td>2</td>\n",
              "    </tr>\n",
              "    <tr>\n",
              "      <th>9</th>\n",
              "      <td>3 a menos</td>\n",
              "      <td>4</td>\n",
              "    </tr>\n",
              "    <tr>\n",
              "      <th>10</th>\n",
              "      <td>3 a menos</td>\n",
              "      <td>4</td>\n",
              "    </tr>\n",
              "    <tr>\n",
              "      <th>11</th>\n",
              "      <td>3 a menos</td>\n",
              "      <td>4</td>\n",
              "    </tr>\n",
              "    <tr>\n",
              "      <th>12</th>\n",
              "      <td>3 a menos</td>\n",
              "      <td>4</td>\n",
              "    </tr>\n",
              "    <tr>\n",
              "      <th>13</th>\n",
              "      <td>3 a menos</td>\n",
              "      <td>4</td>\n",
              "    </tr>\n",
              "    <tr>\n",
              "      <th>14</th>\n",
              "      <td>3 a menos</td>\n",
              "      <td>4</td>\n",
              "    </tr>\n",
              "    <tr>\n",
              "      <th>15</th>\n",
              "      <td>3 a menos</td>\n",
              "      <td>4</td>\n",
              "    </tr>\n",
              "    <tr>\n",
              "      <th>16</th>\n",
              "      <td>3 a menos</td>\n",
              "      <td>4</td>\n",
              "    </tr>\n",
              "    <tr>\n",
              "      <th>17</th>\n",
              "      <td>3 a menos</td>\n",
              "      <td>4</td>\n",
              "    </tr>\n",
              "    <tr>\n",
              "      <th>18</th>\n",
              "      <td>3 a menos</td>\n",
              "      <td>more</td>\n",
              "    </tr>\n",
              "    <tr>\n",
              "      <th>19</th>\n",
              "      <td>3 a menos</td>\n",
              "      <td>more</td>\n",
              "    </tr>\n",
              "    <tr>\n",
              "      <th>20</th>\n",
              "      <td>3 a menos</td>\n",
              "      <td>more</td>\n",
              "    </tr>\n",
              "  </tbody>\n",
              "</table>\n",
              "</div>"
            ],
            "text/plain": [
              "        doors persons\n",
              "0   3 a menos       2\n",
              "1   3 a menos       2\n",
              "2   3 a menos       2\n",
              "3   3 a menos       2\n",
              "4   3 a menos       2\n",
              "5   3 a menos       2\n",
              "6   3 a menos       2\n",
              "7   3 a menos       2\n",
              "8   3 a menos       2\n",
              "9   3 a menos       4\n",
              "10  3 a menos       4\n",
              "11  3 a menos       4\n",
              "12  3 a menos       4\n",
              "13  3 a menos       4\n",
              "14  3 a menos       4\n",
              "15  3 a menos       4\n",
              "16  3 a menos       4\n",
              "17  3 a menos       4\n",
              "18  3 a menos    more\n",
              "19  3 a menos    more\n",
              "20  3 a menos    more"
            ]
          },
          "execution_count": 37,
          "metadata": {},
          "output_type": "execute_result"
        }
      ],
      "source": [
        "combined_data.loc[0:20,['doors', 'persons']]"
      ]
    },
    {
      "cell_type": "markdown",
      "metadata": {
        "id": "TrE0pGF2ioOl"
      },
      "source": [
        "17.\tTambién se pueden utilizar los corchetes para extraer los datos de una categoría en particular de un atributo."
      ]
    },
    {
      "cell_type": "code",
      "execution_count": null,
      "metadata": {
        "id": "0lyTTd3MioOl",
        "outputId": "dccfb3d9-1a4d-4959-e267-7dedfa6189a0"
      },
      "outputs": [
        {
          "data": {
            "text/html": [
              "<div>\n",
              "<style scoped>\n",
              "    .dataframe tbody tr th:only-of-type {\n",
              "        vertical-align: middle;\n",
              "    }\n",
              "\n",
              "    .dataframe tbody tr th {\n",
              "        vertical-align: top;\n",
              "    }\n",
              "\n",
              "    .dataframe thead th {\n",
              "        text-align: right;\n",
              "    }\n",
              "</style>\n",
              "<table border=\"1\" class=\"dataframe\">\n",
              "  <thead>\n",
              "    <tr style=\"text-align: right;\">\n",
              "      <th></th>\n",
              "      <th>buying</th>\n",
              "      <th>maint</th>\n",
              "      <th>doors</th>\n",
              "      <th>persons</th>\n",
              "      <th>trunk</th>\n",
              "      <th>safety</th>\n",
              "      <th>class</th>\n",
              "    </tr>\n",
              "  </thead>\n",
              "  <tbody>\n",
              "    <tr>\n",
              "      <th>0</th>\n",
              "      <td>vhigh</td>\n",
              "      <td>vhigh</td>\n",
              "      <td>3 a menos</td>\n",
              "      <td>2</td>\n",
              "      <td>pequeño</td>\n",
              "      <td>low</td>\n",
              "      <td>unacc</td>\n",
              "    </tr>\n",
              "    <tr>\n",
              "      <th>1</th>\n",
              "      <td>vhigh</td>\n",
              "      <td>vhigh</td>\n",
              "      <td>3 a menos</td>\n",
              "      <td>2</td>\n",
              "      <td>pequeño</td>\n",
              "      <td>med</td>\n",
              "      <td>unacc</td>\n",
              "    </tr>\n",
              "    <tr>\n",
              "      <th>2</th>\n",
              "      <td>vhigh</td>\n",
              "      <td>vhigh</td>\n",
              "      <td>3 a menos</td>\n",
              "      <td>2</td>\n",
              "      <td>pequeño</td>\n",
              "      <td>high</td>\n",
              "      <td>unacc</td>\n",
              "    </tr>\n",
              "    <tr>\n",
              "      <th>3</th>\n",
              "      <td>vhigh</td>\n",
              "      <td>vhigh</td>\n",
              "      <td>3 a menos</td>\n",
              "      <td>2</td>\n",
              "      <td>mediano</td>\n",
              "      <td>low</td>\n",
              "      <td>unacc</td>\n",
              "    </tr>\n",
              "    <tr>\n",
              "      <th>4</th>\n",
              "      <td>vhigh</td>\n",
              "      <td>vhigh</td>\n",
              "      <td>3 a menos</td>\n",
              "      <td>2</td>\n",
              "      <td>mediano</td>\n",
              "      <td>med</td>\n",
              "      <td>unacc</td>\n",
              "    </tr>\n",
              "    <tr>\n",
              "      <th>...</th>\n",
              "      <td>...</td>\n",
              "      <td>...</td>\n",
              "      <td>...</td>\n",
              "      <td>...</td>\n",
              "      <td>...</td>\n",
              "      <td>...</td>\n",
              "      <td>...</td>\n",
              "    </tr>\n",
              "    <tr>\n",
              "      <th>427</th>\n",
              "      <td>vhigh</td>\n",
              "      <td>low</td>\n",
              "      <td>4 a más</td>\n",
              "      <td>more</td>\n",
              "      <td>mediano</td>\n",
              "      <td>med</td>\n",
              "      <td>acc</td>\n",
              "    </tr>\n",
              "    <tr>\n",
              "      <th>428</th>\n",
              "      <td>vhigh</td>\n",
              "      <td>low</td>\n",
              "      <td>4 a más</td>\n",
              "      <td>more</td>\n",
              "      <td>mediano</td>\n",
              "      <td>high</td>\n",
              "      <td>acc</td>\n",
              "    </tr>\n",
              "    <tr>\n",
              "      <th>429</th>\n",
              "      <td>vhigh</td>\n",
              "      <td>low</td>\n",
              "      <td>4 a más</td>\n",
              "      <td>more</td>\n",
              "      <td>grande</td>\n",
              "      <td>low</td>\n",
              "      <td>unacc</td>\n",
              "    </tr>\n",
              "    <tr>\n",
              "      <th>430</th>\n",
              "      <td>vhigh</td>\n",
              "      <td>low</td>\n",
              "      <td>4 a más</td>\n",
              "      <td>more</td>\n",
              "      <td>grande</td>\n",
              "      <td>med</td>\n",
              "      <td>acc</td>\n",
              "    </tr>\n",
              "    <tr>\n",
              "      <th>431</th>\n",
              "      <td>vhigh</td>\n",
              "      <td>low</td>\n",
              "      <td>4 a más</td>\n",
              "      <td>more</td>\n",
              "      <td>grande</td>\n",
              "      <td>high</td>\n",
              "      <td>acc</td>\n",
              "    </tr>\n",
              "  </tbody>\n",
              "</table>\n",
              "<p>432 rows × 7 columns</p>\n",
              "</div>"
            ],
            "text/plain": [
              "    buying  maint      doors persons    trunk safety  class\n",
              "0    vhigh  vhigh  3 a menos       2  pequeño    low  unacc\n",
              "1    vhigh  vhigh  3 a menos       2  pequeño    med  unacc\n",
              "2    vhigh  vhigh  3 a menos       2  pequeño   high  unacc\n",
              "3    vhigh  vhigh  3 a menos       2  mediano    low  unacc\n",
              "4    vhigh  vhigh  3 a menos       2  mediano    med  unacc\n",
              "..     ...    ...        ...     ...      ...    ...    ...\n",
              "427  vhigh    low    4 a más    more  mediano    med    acc\n",
              "428  vhigh    low    4 a más    more  mediano   high    acc\n",
              "429  vhigh    low    4 a más    more   grande    low  unacc\n",
              "430  vhigh    low    4 a más    more   grande    med    acc\n",
              "431  vhigh    low    4 a más    more   grande   high    acc\n",
              "\n",
              "[432 rows x 7 columns]"
            ]
          },
          "execution_count": 38,
          "metadata": {},
          "output_type": "execute_result"
        }
      ],
      "source": [
        "combined_data[combined_data.buying=='vhigh']"
      ]
    },
    {
      "cell_type": "markdown",
      "metadata": {
        "id": "v1uPGpbgioOl"
      },
      "source": [
        "18.\tUtilizando operadores lógicos, se pueden combinar condiciones y aplicar lo anterior."
      ]
    },
    {
      "cell_type": "code",
      "execution_count": null,
      "metadata": {
        "id": "dtkrwPGTioOl",
        "outputId": "bcf52ed5-1add-41e9-99e8-6271bc6b45a5"
      },
      "outputs": [
        {
          "data": {
            "text/html": [
              "<div>\n",
              "<style scoped>\n",
              "    .dataframe tbody tr th:only-of-type {\n",
              "        vertical-align: middle;\n",
              "    }\n",
              "\n",
              "    .dataframe tbody tr th {\n",
              "        vertical-align: top;\n",
              "    }\n",
              "\n",
              "    .dataframe thead th {\n",
              "        text-align: right;\n",
              "    }\n",
              "</style>\n",
              "<table border=\"1\" class=\"dataframe\">\n",
              "  <thead>\n",
              "    <tr style=\"text-align: right;\">\n",
              "      <th></th>\n",
              "      <th>buying</th>\n",
              "      <th>maint</th>\n",
              "      <th>doors</th>\n",
              "      <th>persons</th>\n",
              "      <th>trunk</th>\n",
              "      <th>safety</th>\n",
              "      <th>class</th>\n",
              "    </tr>\n",
              "  </thead>\n",
              "  <tbody>\n",
              "    <tr>\n",
              "      <th>1</th>\n",
              "      <td>vhigh</td>\n",
              "      <td>vhigh</td>\n",
              "      <td>3 a menos</td>\n",
              "      <td>2</td>\n",
              "      <td>pequeño</td>\n",
              "      <td>med</td>\n",
              "      <td>unacc</td>\n",
              "    </tr>\n",
              "    <tr>\n",
              "      <th>2</th>\n",
              "      <td>vhigh</td>\n",
              "      <td>vhigh</td>\n",
              "      <td>3 a menos</td>\n",
              "      <td>2</td>\n",
              "      <td>pequeño</td>\n",
              "      <td>high</td>\n",
              "      <td>unacc</td>\n",
              "    </tr>\n",
              "    <tr>\n",
              "      <th>4</th>\n",
              "      <td>vhigh</td>\n",
              "      <td>vhigh</td>\n",
              "      <td>3 a menos</td>\n",
              "      <td>2</td>\n",
              "      <td>mediano</td>\n",
              "      <td>med</td>\n",
              "      <td>unacc</td>\n",
              "    </tr>\n",
              "    <tr>\n",
              "      <th>5</th>\n",
              "      <td>vhigh</td>\n",
              "      <td>vhigh</td>\n",
              "      <td>3 a menos</td>\n",
              "      <td>2</td>\n",
              "      <td>mediano</td>\n",
              "      <td>high</td>\n",
              "      <td>unacc</td>\n",
              "    </tr>\n",
              "    <tr>\n",
              "      <th>7</th>\n",
              "      <td>vhigh</td>\n",
              "      <td>vhigh</td>\n",
              "      <td>3 a menos</td>\n",
              "      <td>2</td>\n",
              "      <td>grande</td>\n",
              "      <td>med</td>\n",
              "      <td>unacc</td>\n",
              "    </tr>\n",
              "    <tr>\n",
              "      <th>...</th>\n",
              "      <td>...</td>\n",
              "      <td>...</td>\n",
              "      <td>...</td>\n",
              "      <td>...</td>\n",
              "      <td>...</td>\n",
              "      <td>...</td>\n",
              "      <td>...</td>\n",
              "    </tr>\n",
              "    <tr>\n",
              "      <th>1721</th>\n",
              "      <td>low</td>\n",
              "      <td>low</td>\n",
              "      <td>4 a más</td>\n",
              "      <td>more</td>\n",
              "      <td>pequeño</td>\n",
              "      <td>high</td>\n",
              "      <td>good</td>\n",
              "    </tr>\n",
              "    <tr>\n",
              "      <th>1723</th>\n",
              "      <td>low</td>\n",
              "      <td>low</td>\n",
              "      <td>4 a más</td>\n",
              "      <td>more</td>\n",
              "      <td>mediano</td>\n",
              "      <td>med</td>\n",
              "      <td>good</td>\n",
              "    </tr>\n",
              "    <tr>\n",
              "      <th>1724</th>\n",
              "      <td>low</td>\n",
              "      <td>low</td>\n",
              "      <td>4 a más</td>\n",
              "      <td>more</td>\n",
              "      <td>mediano</td>\n",
              "      <td>high</td>\n",
              "      <td>vgood</td>\n",
              "    </tr>\n",
              "    <tr>\n",
              "      <th>1726</th>\n",
              "      <td>low</td>\n",
              "      <td>low</td>\n",
              "      <td>4 a más</td>\n",
              "      <td>more</td>\n",
              "      <td>grande</td>\n",
              "      <td>med</td>\n",
              "      <td>good</td>\n",
              "    </tr>\n",
              "    <tr>\n",
              "      <th>1727</th>\n",
              "      <td>low</td>\n",
              "      <td>low</td>\n",
              "      <td>4 a más</td>\n",
              "      <td>more</td>\n",
              "      <td>grande</td>\n",
              "      <td>high</td>\n",
              "      <td>vgood</td>\n",
              "    </tr>\n",
              "  </tbody>\n",
              "</table>\n",
              "<p>1152 rows × 7 columns</p>\n",
              "</div>"
            ],
            "text/plain": [
              "     buying  maint      doors persons    trunk safety  class\n",
              "1     vhigh  vhigh  3 a menos       2  pequeño    med  unacc\n",
              "2     vhigh  vhigh  3 a menos       2  pequeño   high  unacc\n",
              "4     vhigh  vhigh  3 a menos       2  mediano    med  unacc\n",
              "5     vhigh  vhigh  3 a menos       2  mediano   high  unacc\n",
              "7     vhigh  vhigh  3 a menos       2   grande    med  unacc\n",
              "...     ...    ...        ...     ...      ...    ...    ...\n",
              "1721    low    low    4 a más    more  pequeño   high   good\n",
              "1723    low    low    4 a más    more  mediano    med   good\n",
              "1724    low    low    4 a más    more  mediano   high  vgood\n",
              "1726    low    low    4 a más    more   grande    med   good\n",
              "1727    low    low    4 a más    more   grande   high  vgood\n",
              "\n",
              "[1152 rows x 7 columns]"
            ]
          },
          "execution_count": 39,
          "metadata": {},
          "output_type": "execute_result"
        }
      ],
      "source": [
        "combined_data[(combined_data.safety=='med') | (combined_data.safety=='high')]"
      ]
    },
    {
      "cell_type": "markdown",
      "metadata": {
        "id": "GG_QCSHBioOm"
      },
      "source": [
        "19.\tPor último, si deseamos exportar nuestro documento a un csv adicionándole la ruta donde queremos guardar nuestro documento."
      ]
    },
    {
      "cell_type": "code",
      "execution_count": null,
      "metadata": {
        "id": "74b52qv2ioOm"
      },
      "outputs": [],
      "source": [
        "import os\n",
        "import pyperclip"
      ]
    },
    {
      "cell_type": "markdown",
      "metadata": {
        "id": "nGwjTW6qioOm"
      },
      "source": [
        "copiamos el directorio actual"
      ]
    },
    {
      "cell_type": "code",
      "execution_count": null,
      "metadata": {
        "id": "WaY7pX9nioOm",
        "outputId": "7071b238-1c38-46d0-ee23-6ad253624216"
      },
      "outputs": [
        {
          "name": "stdout",
          "output_type": "stream",
          "text": [
            "c:\\TECSUP\\5-tecsup\\Mineria de Datos\\Semana (3)\\LAB\n"
          ]
        }
      ],
      "source": [
        "directorio_actual = os.getcwd()\n",
        "print(directorio_actual)"
      ]
    },
    {
      "cell_type": "code",
      "execution_count": null,
      "metadata": {
        "id": "R-k4s5aaioOm",
        "outputId": "b642528b-77fc-4566-b442-dd2b034c9e9e"
      },
      "outputs": [
        {
          "name": "stdout",
          "output_type": "stream",
          "text": [
            "El directorio escapado 'c:\\\\TECSUP\\\\5-tecsup\\\\Mineria de Datos\\\\Semana (3)\\\\LAB' se ha copiado al portapapeles.\n"
          ]
        }
      ],
      "source": [
        "directorio_esc = directorio_actual.replace(\"\\\\\", \"\\\\\\\\\")\n",
        "\n",
        "pyperclip.copy(directorio_esc)\n",
        "\n",
        "print(f\"El directorio escapado '{directorio_esc}' se ha copiado al portapapeles.\")"
      ]
    },
    {
      "cell_type": "markdown",
      "metadata": {
        "id": "nJbzHOCJioOm"
      },
      "source": [
        "aplicamos la ruta"
      ]
    },
    {
      "cell_type": "code",
      "execution_count": null,
      "metadata": {
        "id": "800stsvcioOm"
      },
      "outputs": [],
      "source": [
        "ruta='C:\\\\TECSUP\\\\5-tecsup\\\\Mineria de Datos\\\\Semana (3)\\\\LAB\\\\combined_data.csv'"
      ]
    },
    {
      "cell_type": "code",
      "execution_count": null,
      "metadata": {
        "id": "bB0VANZ3ioOm"
      },
      "outputs": [],
      "source": [
        "### combined_data.to_csv(ruta)\n",
        "# invalido porque arroja los datos en mal formato"
      ]
    },
    {
      "cell_type": "markdown",
      "metadata": {
        "id": "NEMLw5sEioOn"
      },
      "source": [
        "HACEMOS UNA CORRECIÓN DE FORMATOS CON ucimlrepo"
      ]
    },
    {
      "cell_type": "code",
      "execution_count": null,
      "metadata": {
        "id": "ct28COdUioOn"
      },
      "outputs": [],
      "source": [
        "from ucimlrepo import fetch_ucirepo"
      ]
    },
    {
      "cell_type": "code",
      "execution_count": null,
      "metadata": {
        "id": "UslcXgF3ioOn"
      },
      "outputs": [],
      "source": [
        "# fetch dataset\n",
        "car_evaluation = fetch_ucirepo(id=19)"
      ]
    },
    {
      "cell_type": "code",
      "execution_count": null,
      "metadata": {
        "id": "_8zKb93QioOn",
        "outputId": "09e9b398-e73c-4a6a-ad28-cb8d4b8e30c2"
      },
      "outputs": [
        {
          "name": "stdout",
          "output_type": "stream",
          "text": [
            "Los datos se han guardado en car_evaluation_data.csv con codificación ISO-8859-1.\n"
          ]
        }
      ],
      "source": [
        "# Guardar el DataFrame en un archivo CSV con codificación UTF-8\n",
        "combined_data.to_csv(\"DATA_FORMATEADA.csv\", index=False, encoding=\"ISO-8859-1\")\n",
        "\n",
        "print(\"Los datos se han guardado en car_evaluation_data.csv con codificación ISO-8859-1.\")"
      ]
    },
    {
      "cell_type": "markdown",
      "metadata": {
        "id": "fBIckrH7ioOn"
      },
      "source": [
        "20.\tA continuación, se muestran los métodos más importantes que existen para importar y exportar datos en Python."
      ]
    },
    {
      "cell_type": "markdown",
      "metadata": {
        "id": "_n5WdSPSioOn"
      },
      "source": [
        "from IPython.display import HTML\n",
        "\n",
        "tabla_html = \"\"\"\n",
        "<table>\n",
        "  <thead>\n",
        "    <tr>\n",
        "      <th>Formato archivo</th>\n",
        "      <th>Importar (leer)</th>\n",
        "      <th>Exportar (guardar)</th>\n",
        "    </tr>\n",
        "  </thead>\n",
        "  <tbody>\n",
        "    <tr>\n",
        "      <td>csv</td>\n",
        "      <td>pd.read_csv()</td>\n",
        "      <td>df.to_csv()</td>\n",
        "    </tr>\n",
        "    <tr>\n",
        "      <td>json</td>\n",
        "      <td>pd.read_json()</td>\n",
        "      <td>df.to_json()</td>\n",
        "    </tr>\n",
        "    <tr>\n",
        "      <td>excel</td>\n",
        "      <td>pd.read_excel()</td>\n",
        "      <td>df.to_excel()</td>\n",
        "    </tr>\n",
        "    <tr>\n",
        "      <td>sql</td>\n",
        "      <td>pd.read_sql()</td>\n",
        "      <td>df.to_sql()</td>\n",
        "    </tr>\n",
        "  </tbody>\n",
        "</table>\n",
        "\"\"\"\n",
        "\n",
        "HTML(tabla_html)"
      ]
    }
  ],
  "metadata": {
    "kernelspec": {
      "display_name": "Python 3",
      "language": "python",
      "name": "python3"
    },
    "language_info": {
      "codemirror_mode": {
        "name": "ipython",
        "version": 3
      },
      "file_extension": ".py",
      "mimetype": "text/x-python",
      "name": "python",
      "nbconvert_exporter": "python",
      "pygments_lexer": "ipython3",
      "version": "3.12.5"
    },
    "colab": {
      "provenance": [],
      "include_colab_link": true
    }
  },
  "nbformat": 4,
  "nbformat_minor": 0
}